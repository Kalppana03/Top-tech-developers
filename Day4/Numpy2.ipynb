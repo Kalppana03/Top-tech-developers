{
 "cells": [
  {
   "cell_type": "code",
   "execution_count": 2,
   "id": "06251652-aa89-4247-9370-568c4abf6758",
   "metadata": {},
   "outputs": [],
   "source": [
    "import numpy as np"
   ]
  },
  {
   "cell_type": "code",
   "execution_count": 3,
   "id": "962037ad-64e3-4305-9aa5-aa4f558772db",
   "metadata": {},
   "outputs": [
    {
     "name": "stdout",
     "output_type": "stream",
     "text": [
      "[3.16227766 4.47213595 5.47722558 6.32455532 7.07106781]\n",
      "[2.20264658e+04 4.85165195e+08 1.06864746e+13 2.35385267e+17\n",
      " 5.18470553e+21]\n"
     ]
    }
   ],
   "source": [
    "arr1= np.array([10,20,30,40,50])\n",
    "print(np.sqrt(arr1))\n",
    "print(np.exp(arr1))"
   ]
  },
  {
   "cell_type": "code",
   "execution_count": 4,
   "id": "88995a16-c747-4d96-85c5-8a6a629ac072",
   "metadata": {},
   "outputs": [
    {
     "name": "stdout",
     "output_type": "stream",
     "text": [
      "Horizontal staking:  [10 20 30 40 50  1  2  3  4  5]\n",
      "Vertical stacking:  [[10 20 30 40 50]\n",
      " [ 1  2  3  4  5]]\n"
     ]
    }
   ],
   "source": [
    "#STACK\n",
    "arr1=np.array([10,20,30,40,50])\n",
    "arr2=np.array([1,2,3,4,5])\n",
    "harr=np.hstack((arr1,arr2))\n",
    "print(\"Horizontal staking: \",harr)\n",
    "varr=np.vstack((arr1,arr2))\n",
    "print(\"Vertical stacking: \",varr)"
   ]
  },
  {
   "cell_type": "code",
   "execution_count": 5,
   "id": "2af8767f-15fe-4808-8da6-5101db064418",
   "metadata": {},
   "outputs": [
    {
     "name": "stdout",
     "output_type": "stream",
     "text": [
      "Ascending order:  [ 1  3  5  6  8 10]\n",
      "Descending order:  [10  8  6  5  3  1]\n"
     ]
    }
   ],
   "source": [
    "#SORTING\n",
    "arr3=np.array([1,5,3,10,6,8])\n",
    "st=np.sort(arr3)\n",
    "print(\"Ascending order: \",st)\n",
    "st2=np.sort(arr3)[::-1]\n",
    "print(\"Descending order: \",st2)"
   ]
  },
  {
   "cell_type": "code",
   "execution_count": 9,
   "id": "0bb5dedb-e5f2-4e9b-9baa-974f43152644",
   "metadata": {},
   "outputs": [
    {
     "name": "stdout",
     "output_type": "stream",
     "text": [
      "[False False False False  True  True  True False False  True  True]\n",
      "True\n",
      "[ 5  6  7  9 32 36 46 87]\n"
     ]
    }
   ],
   "source": [
    "#UNIQUE AND EQUAL\n",
    "arr4=np.array([6,5,7,9,46,36,32,6,5,87,46])\n",
    "arr5=np.array([6,5,7,9,46,36,32,6,5,87,46])\n",
    "print(arr4>30)\n",
    "print(np.array_equal(arr4,arr5))\n",
    "print(np.unique(arr5))"
   ]
  }
 ],
 "metadata": {
  "kernelspec": {
   "display_name": "Python 3 (ipykernel)",
   "language": "python",
   "name": "python3"
  },
  "language_info": {
   "codemirror_mode": {
    "name": "ipython",
    "version": 3
   },
   "file_extension": ".py",
   "mimetype": "text/x-python",
   "name": "python",
   "nbconvert_exporter": "python",
   "pygments_lexer": "ipython3",
   "version": "3.12.7"
  }
 },
 "nbformat": 4,
 "nbformat_minor": 5
}
