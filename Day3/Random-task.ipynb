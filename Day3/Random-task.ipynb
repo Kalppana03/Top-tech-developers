{
 "cells": [
  {
   "cell_type": "code",
   "execution_count": 1,
   "id": "25367b04-c633-4194-8cd6-72155abb5926",
   "metadata": {},
   "outputs": [],
   "source": [
    "import random as rn\n",
    "import numpy as np"
   ]
  },
  {
   "cell_type": "code",
   "execution_count": 2,
   "id": "56c2b460-4ec9-49be-a1ce-3a7d7c2be6ba",
   "metadata": {},
   "outputs": [
    {
     "data": {
      "text/plain": [
       "array([ 6,  5,  2, 17,  6])"
      ]
     },
     "execution_count": 2,
     "metadata": {},
     "output_type": "execute_result"
    }
   ],
   "source": [
    "a0=np.array([rn.randint(1,20) for i in range(5)])\n",
    "a0"
   ]
  },
  {
   "cell_type": "code",
   "execution_count": 4,
   "id": "47360b1f-14c2-404d-9093-48410ce7047f",
   "metadata": {},
   "outputs": [
    {
     "data": {
      "text/plain": [
       "array([[ 7,  4, 11, 14, 11],\n",
       "       [ 4, 17,  6, 17, 18]])"
      ]
     },
     "execution_count": 4,
     "metadata": {},
     "output_type": "execute_result"
    }
   ],
   "source": [
    "a1=np.array([[rn.randint(1,20) for j in range(5)] for i in range(2)])\n",
    "a1"
   ]
  },
  {
   "cell_type": "code",
   "execution_count": 5,
   "id": "dacf9272-801b-4546-93e4-95af5403dba8",
   "metadata": {},
   "outputs": [
    {
     "data": {
      "text/plain": [
       "array([[[19, 18,  2, 16,  4],\n",
       "        [17, 10, 19,  7, 20]],\n",
       "\n",
       "       [[20,  2,  5, 14,  4],\n",
       "        [12, 13,  6, 20,  1]]])"
      ]
     },
     "execution_count": 5,
     "metadata": {},
     "output_type": "execute_result"
    }
   ],
   "source": [
    "a2=np.array([[[rn.randint(1,20) for j in range(5)] for k in range(2)]for i in range(2)])\n",
    "a2"
   ]
  },
  {
   "cell_type": "code",
   "execution_count": 6,
   "id": "0540111e-762a-499e-ac90-67ab2bfa0ca1",
   "metadata": {},
   "outputs": [
    {
     "name": "stdout",
     "output_type": "stream",
     "text": [
      "(2, 5)\n",
      "10\n",
      "2\n"
     ]
    }
   ],
   "source": [
    "print(a0.shape)\n",
    "print(a0.size)\n",
    "print(a0.ndim)"
   ]
  },
  {
   "cell_type": "code",
   "execution_count": 7,
   "id": "a2792677-8bd6-4a8a-96fe-d9353b793831",
   "metadata": {},
   "outputs": [
    {
     "name": "stdout",
     "output_type": "stream",
     "text": [
      "(2, 5)\n",
      "10\n",
      "2\n"
     ]
    }
   ],
   "source": [
    "print(a1.shape)\n",
    "print(a1.size)\n",
    "print(a1.ndim)"
   ]
  },
  {
   "cell_type": "code",
   "execution_count": 8,
   "id": "4c1b93b7-9f89-42dd-9506-3bde9e53c617",
   "metadata": {},
   "outputs": [
    {
     "name": "stdout",
     "output_type": "stream",
     "text": [
      "(2, 2, 5)\n",
      "20\n",
      "3\n"
     ]
    }
   ],
   "source": [
    "print(a2.shape)\n",
    "print(a2.size)\n",
    "print(a2.ndim)"
   ]
  },
  {
   "cell_type": "code",
   "execution_count": 9,
   "id": "9816167a-8e7a-4e1f-bc09-9b92bd6540ea",
   "metadata": {},
   "outputs": [
    {
     "name": "stdout",
     "output_type": "stream",
     "text": [
      "Addition:  [17 25 16 22 30]\n",
      "Subtraction:  [ 15 -15  -4  16 -10]\n",
      "Scalar multiplication:  [80 25 30 95 50] \n",
      " [ 2 40 20  6 40]\n",
      "Division:  [16.          0.25        0.6         6.33333333  0.5       ]\n",
      "Dot product:  433\n"
     ]
    }
   ],
   "source": [
    "#NUMPY INDEXING\n",
    "a1=np.array([rn.randint(1,20) for i in range(5)])\n",
    "a2=np.array([rn.randint(1,20) for i in range(5)])\n",
    "print(\"Addition: \",a1+a2)\n",
    "print(\"Subtraction: \",a1-a2)\n",
    "print(\"Scalar multiplication: \",a1*5,\"\\n\",a2*2)\n",
    "print(\"Division: \",a1/a2)\n",
    "print(\"Dot product: \", np.dot(a1,a2))"
   ]
  },
  {
   "cell_type": "code",
   "execution_count": 10,
   "id": "2ccfef1c-8967-49aa-b87a-82edc9e3e356",
   "metadata": {},
   "outputs": [
    {
     "name": "stdout",
     "output_type": "stream",
     "text": [
      "49\n",
      "9.8\n",
      "5.114684741017769\n",
      "19\n",
      "4\n",
      "4\n"
     ]
    },
    {
     "ename": "NameError",
     "evalue": "name 'b2' is not defined",
     "output_type": "error",
     "traceback": [
      "\u001b[1;31m---------------------------------------------------------------------------\u001b[0m",
      "\u001b[1;31mNameError\u001b[0m                                 Traceback (most recent call last)",
      "Cell \u001b[1;32mIn[10], line 8\u001b[0m\n\u001b[0;32m      6\u001b[0m \u001b[38;5;28mprint\u001b[39m(np\u001b[38;5;241m.\u001b[39mmin(b1))\n\u001b[0;32m      7\u001b[0m \u001b[38;5;28mprint\u001b[39m(np\u001b[38;5;241m.\u001b[39margmax(b1))\n\u001b[1;32m----> 8\u001b[0m \u001b[38;5;28mprint\u001b[39m(np\u001b[38;5;241m.\u001b[39margmin(b2))\n",
      "\u001b[1;31mNameError\u001b[0m: name 'b2' is not defined"
     ]
    }
   ],
   "source": [
    "b1=np.array([rn.randint(1,20) for i in range(5)])\n",
    "b2=np.array([[9,11]])\n",
    "print(np.sum(b1))\n",
    "print(np.mean(b1))\n",
    "print(np.std(b1))\n",
    "print(np.max(b1))\n",
    "print(np.min(b1))\n",
    "print(np.argmax(b1))\n",
    "print(np.argmin(b2))"
   ]
  },
  {
   "cell_type": "code",
   "execution_count": null,
   "id": "5e847cb6-8f45-4ede-baab-0ae549f5b6a1",
   "metadata": {},
   "outputs": [],
   "source": []
  }
 ],
 "metadata": {
  "kernelspec": {
   "display_name": "Python 3 (ipykernel)",
   "language": "python",
   "name": "python3"
  },
  "language_info": {
   "codemirror_mode": {
    "name": "ipython",
    "version": 3
   },
   "file_extension": ".py",
   "mimetype": "text/x-python",
   "name": "python",
   "nbconvert_exporter": "python",
   "pygments_lexer": "ipython3",
   "version": "3.12.7"
  }
 },
 "nbformat": 4,
 "nbformat_minor": 5
}
