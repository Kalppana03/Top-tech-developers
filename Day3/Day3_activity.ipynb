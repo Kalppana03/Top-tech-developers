{
 "cells": [
  {
   "cell_type": "code",
   "execution_count": 3,
   "id": "2438c1c6-c409-4dbb-8891-e6fe55bcb8fa",
   "metadata": {},
   "outputs": [],
   "source": [
    "def addition(a,b):\n",
    "    s=a+b\n",
    "    return s"
   ]
  },
  {
   "cell_type": "code",
   "execution_count": 4,
   "id": "441a2d69-badd-4b9c-812a-858cdfb21989",
   "metadata": {},
   "outputs": [
    {
     "data": {
      "text/plain": [
       "30"
      ]
     },
     "execution_count": 4,
     "metadata": {},
     "output_type": "execute_result"
    }
   ],
   "source": [
    "addition(10,20)"
   ]
  },
  {
   "cell_type": "code",
   "execution_count": 5,
   "id": "cf8a8035-8eba-43ed-853c-1dad4d341dde",
   "metadata": {},
   "outputs": [
    {
     "name": "stdout",
     "output_type": "stream",
     "text": [
      "Requirement already satisfied: numpy in c:\\users\\ksubr\\anaconda3\\lib\\site-packages (1.26.4)\n",
      "Note: you may need to restart the kernel to use updated packages.\n"
     ]
    }
   ],
   "source": [
    "pip install numpy"
   ]
  },
  {
   "cell_type": "code",
   "execution_count": 7,
   "id": "d5f9dccd-0f5a-4a66-81dd-baeec7e21e92",
   "metadata": {},
   "outputs": [],
   "source": [
    "import numpy as np"
   ]
  },
  {
   "cell_type": "code",
   "execution_count": 8,
   "id": "7a56677b-7b71-4a6c-91bb-37342f449aba",
   "metadata": {},
   "outputs": [
    {
     "data": {
      "text/plain": [
       "array([10, 20, 30, 40, 50])"
      ]
     },
     "execution_count": 8,
     "metadata": {},
     "output_type": "execute_result"
    }
   ],
   "source": [
    "a=np.array([10,20,30,40,50])\n",
    "a"
   ]
  },
  {
   "cell_type": "code",
   "execution_count": 10,
   "id": "72c1c2bc-4edc-46de-af41-33ec0d4784da",
   "metadata": {},
   "outputs": [
    {
     "data": {
      "text/plain": [
       "array(10)"
      ]
     },
     "execution_count": 10,
     "metadata": {},
     "output_type": "execute_result"
    }
   ],
   "source": [
    "a0=np.array(10)\n",
    "a0"
   ]
  },
  {
   "cell_type": "code",
   "execution_count": 11,
   "id": "0cc8c7ec-e740-41de-9cf1-47c147bf9ce8",
   "metadata": {},
   "outputs": [
    {
     "data": {
      "text/plain": [
       "array([10, 20, 30, 40, 50])"
      ]
     },
     "execution_count": 11,
     "metadata": {},
     "output_type": "execute_result"
    }
   ],
   "source": [
    "a1=np.array([10,20,30,40,50])\n",
    "a1"
   ]
  },
  {
   "cell_type": "code",
   "execution_count": 13,
   "id": "fdc561e5-d4bd-4ca8-a3be-9c46437cc755",
   "metadata": {},
   "outputs": [
    {
     "data": {
      "text/plain": [
       "array([[ 1,  2,  3,  4,  5],\n",
       "       [10, 20, 30, 40, 50]])"
      ]
     },
     "execution_count": 13,
     "metadata": {},
     "output_type": "execute_result"
    }
   ],
   "source": [
    "a2=np.array([[1,2,3,4,5],[10,20,30,40,50]])\n",
    "a2"
   ]
  },
  {
   "cell_type": "code",
   "execution_count": 16,
   "id": "245be286-9778-4b38-bf59-2a22c57f9424",
   "metadata": {},
   "outputs": [
    {
     "data": {
      "text/plain": [
       "array([[[  1,   2,   3,   4,   5],\n",
       "        [ 10,  20,  30,  40,  50]],\n",
       "\n",
       "       [[  6,   7,   8,   9,  10],\n",
       "        [ 60,  70,  80,  90, 100]]])"
      ]
     },
     "execution_count": 16,
     "metadata": {},
     "output_type": "execute_result"
    }
   ],
   "source": [
    "a3=np.array([[[1,2,3,4,5],[10,20,30,40,50]],[[6,7,8,9,10],[60,70,80,90,100]]])\n",
    "a3"
   ]
  },
  {
   "cell_type": "code",
   "execution_count": 18,
   "id": "2b764826-212a-409e-bee7-004a06bae2d4",
   "metadata": {},
   "outputs": [
    {
     "name": "stdout",
     "output_type": "stream",
     "text": [
      "()\n",
      "1\n",
      "0\n"
     ]
    }
   ],
   "source": [
    "print(a0.shape)\n",
    "print(a0.size)\n",
    "print(a0.ndim)"
   ]
  },
  {
   "cell_type": "code",
   "execution_count": 19,
   "id": "41a95ede-a1a6-4f78-8f5d-237a3eb2a983",
   "metadata": {},
   "outputs": [
    {
     "name": "stdout",
     "output_type": "stream",
     "text": [
      "(5,)\n",
      "5\n",
      "1\n"
     ]
    }
   ],
   "source": [
    "print(a1.shape)\n",
    "print(a1.size)\n",
    "print(a1.ndim)"
   ]
  },
  {
   "cell_type": "code",
   "execution_count": 20,
   "id": "7c407b91-e55f-4caf-9904-581eb16925b3",
   "metadata": {},
   "outputs": [
    {
     "name": "stdout",
     "output_type": "stream",
     "text": [
      "(2, 5)\n",
      "10\n",
      "2\n"
     ]
    }
   ],
   "source": [
    "print(a2.shape)\n",
    "print(a2.size)\n",
    "print(a2.ndim)"
   ]
  },
  {
   "cell_type": "code",
   "execution_count": 21,
   "id": "3f5080e0-ed9f-495c-affc-924d5a93afbb",
   "metadata": {},
   "outputs": [
    {
     "name": "stdout",
     "output_type": "stream",
     "text": [
      "(2, 2, 5)\n",
      "20\n",
      "3\n"
     ]
    }
   ],
   "source": [
    "print(a3.shape)\n",
    "print(a3.size)\n",
    "print(a3.ndim)"
   ]
  },
  {
   "cell_type": "code",
   "execution_count": 22,
   "id": "ff87ed97-6358-40f6-a038-ff9fad3afa30",
   "metadata": {},
   "outputs": [
    {
     "data": {
      "text/plain": [
       "array([[0., 0., 0.],\n",
       "       [0., 0., 0.],\n",
       "       [0., 0., 0.]])"
      ]
     },
     "execution_count": 22,
     "metadata": {},
     "output_type": "execute_result"
    }
   ],
   "source": [
    "z=np.zeros((3,3))\n",
    "z"
   ]
  },
  {
   "cell_type": "code",
   "execution_count": 25,
   "id": "e72c4e5b-6d1f-4893-91c4-d60accc4a07b",
   "metadata": {},
   "outputs": [
    {
     "data": {
      "text/plain": [
       "array([[1., 1.]])"
      ]
     },
     "execution_count": 25,
     "metadata": {},
     "output_type": "execute_result"
    }
   ],
   "source": [
    "a=np.ones((1,2))\n",
    "a"
   ]
  },
  {
   "cell_type": "code",
   "execution_count": 26,
   "id": "ffa55a44-a1fe-4391-bae2-b49fa86fefed",
   "metadata": {},
   "outputs": [
    {
     "data": {
      "text/plain": [
       "array([[2.12199579e-314, 9.54898106e-312],\n",
       "       [6.87739379e-321, 9.54898106e-312]])"
      ]
     },
     "execution_count": 26,
     "metadata": {},
     "output_type": "execute_result"
    }
   ],
   "source": [
    "b=np.empty((2,2))\n",
    "b"
   ]
  },
  {
   "cell_type": "code",
   "execution_count": 27,
   "id": "30c8003c-aba7-4868-9b89-5c6ed99086d1",
   "metadata": {},
   "outputs": [
    {
     "data": {
      "text/plain": [
       "[1, 2, 3, 4]"
      ]
     },
     "execution_count": 27,
     "metadata": {},
     "output_type": "execute_result"
    }
   ],
   "source": [
    "#List indexing\n",
    "l=[1,2,3,4]\n",
    "l"
   ]
  },
  {
   "cell_type": "code",
   "execution_count": 28,
   "id": "290fc3f2-c48a-421f-834e-8ac75d9f8e79",
   "metadata": {},
   "outputs": [
    {
     "data": {
      "text/plain": [
       "[2, 3]"
      ]
     },
     "execution_count": 28,
     "metadata": {},
     "output_type": "execute_result"
    }
   ],
   "source": [
    "l[1:3]"
   ]
  },
  {
   "cell_type": "code",
   "execution_count": 32,
   "id": "96cd3e01-cec2-47ab-96a7-70ad7a5001cb",
   "metadata": {},
   "outputs": [
    {
     "data": {
      "text/plain": [
       "array([20, 30])"
      ]
     },
     "execution_count": 32,
     "metadata": {},
     "output_type": "execute_result"
    }
   ],
   "source": [
    "#numpy array indexing\n",
    "a1[1:3]"
   ]
  },
  {
   "cell_type": "code",
   "execution_count": 31,
   "id": "32da04c2-b772-491c-8299-4b03c27e14bf",
   "metadata": {},
   "outputs": [
    {
     "data": {
      "text/plain": [
       "array([20, 30])"
      ]
     },
     "execution_count": 31,
     "metadata": {},
     "output_type": "execute_result"
    }
   ],
   "source": [
    "a2[1][1:3]"
   ]
  },
  {
   "cell_type": "code",
   "execution_count": 33,
   "id": "e3fc0b41-072f-4218-8067-8f8b92a90ef0",
   "metadata": {},
   "outputs": [
    {
     "name": "stdout",
     "output_type": "stream",
     "text": [
      "Addition:  [ 21  42  63  84 105]\n",
      "Subtraction:  [1 2 3 4 5]\n",
      "Scalar multiplication:  [ 55 110 165 220 275] \n",
      " [ 20  40  60  80 100]\n",
      "Division:  [1.1 1.1 1.1 1.1 1.1]\n",
      "Dot product:  6050\n"
     ]
    }
   ],
   "source": [
    "#NUMPY INDEXING\n",
    "a1=np.array([11,22,33,44,55])\n",
    "a2=np.array([10,20,30,40,50])\n",
    "print(\"Addition: \",a1+a2)\n",
    "print(\"Subtraction: \",a1-a2)\n",
    "print(\"Scalar multiplication: \",a1*5,\"\\n\",a2*2)\n",
    "print(\"Division: \",a1/a2)\n",
    "print(\"Dot product: \", np.dot(a1,a2))"
   ]
  },
  {
   "cell_type": "code",
   "execution_count": 41,
   "id": "14589747-34bc-44f8-b866-02dae30c5db3",
   "metadata": {},
   "outputs": [
    {
     "data": {
      "text/plain": [
       "array([0, 1, 2, 3, 4, 5])"
      ]
     },
     "execution_count": 41,
     "metadata": {},
     "output_type": "execute_result"
    }
   ],
   "source": [
    "#RESHAPING AND FLATTENING\n",
    "a5=np.arange(6)\n",
    "a5\n",
    "a5=a5.reshape(3,2)\n",
    "a5\n",
    "a5=a5.flatten()\n",
    "a5"
   ]
  },
  {
   "cell_type": "code",
   "execution_count": 46,
   "id": "e18836fc-dea4-4e5c-b163-4dd3a0d988b3",
   "metadata": {},
   "outputs": [
    {
     "name": "stdout",
     "output_type": "stream",
     "text": [
      "[[ 1  3]\n",
      " [ 5  7]\n",
      " [ 9 11]]\n",
      "[array([[1, 3]]), array([[5, 7]]), array([[ 9, 11]])]\n"
     ]
    }
   ],
   "source": [
    "#ARRAY CONCATENATION AND SPLITTING\n",
    "b1=np.array([[1,3],[5,7]])\n",
    "b2=np.array([[9,11]])\n",
    "b3=np.concatenate((b1,b2),axis=0)\n",
    "print(b3)\n",
    "s=np.split(b3,3)\n",
    "print(s)"
   ]
  },
  {
   "cell_type": "code",
   "execution_count": 47,
   "id": "b002daee-533e-4541-b26f-fd69b48a8e39",
   "metadata": {},
   "outputs": [
    {
     "name": "stdout",
     "output_type": "stream",
     "text": [
      "150\n",
      "30.0\n",
      "14.142135623730951\n",
      "50\n",
      "10\n",
      "4\n",
      "0\n"
     ]
    }
   ],
   "source": [
    "#MATHEMATICAL AND STATISTICAL FUNCTIONS\n",
    "b1=np.array([10,20,30,40,50])\n",
    "print(np.sum(b1))\n",
    "print(np.mean(b1))\n",
    "print(np.std(b1))\n",
    "print(np.max(b1))\n",
    "print(np.min(b1))\n",
    "print(np.argmax(b1))\n",
    "print(np.argmin(b2))"
   ]
  },
  {
   "cell_type": "code",
   "execution_count": null,
   "id": "203d6882-7b71-48ba-954e-19fa9e5534e6",
   "metadata": {},
   "outputs": [],
   "source": []
  }
 ],
 "metadata": {
  "kernelspec": {
   "display_name": "Python 3 (ipykernel)",
   "language": "python",
   "name": "python3"
  },
  "language_info": {
   "codemirror_mode": {
    "name": "ipython",
    "version": 3
   },
   "file_extension": ".py",
   "mimetype": "text/x-python",
   "name": "python",
   "nbconvert_exporter": "python",
   "pygments_lexer": "ipython3",
   "version": "3.12.7"
  }
 },
 "nbformat": 4,
 "nbformat_minor": 5
}
