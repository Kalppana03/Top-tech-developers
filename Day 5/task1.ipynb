{
 "cells": [
  {
   "cell_type": "code",
   "execution_count": 5,
   "id": "e8f6d632-2274-45b3-a020-25b06ba8509c",
   "metadata": {},
   "outputs": [],
   "source": [
    "import numpy as np"
   ]
  },
  {
   "cell_type": "code",
   "execution_count": 6,
   "id": "ff15057d-1fac-423c-ab11-db69ed13c18c",
   "metadata": {},
   "outputs": [
    {
     "name": "stdout",
     "output_type": "stream",
     "text": [
      "(2, 2, 5)\n",
      "20\n",
      "3\n"
     ]
    }
   ],
   "source": [
    "a0=np.array([[[1,2,3,4,5],[10,20,30,40,50]],[[6,7,8,9,10],[60,70,80,90,100]]])\n",
    "a0\n",
    "print(a0.shape)\n",
    "print(a0.size)\n",
    "print(a0.ndim)"
   ]
  },
  {
   "cell_type": "code",
   "execution_count": 8,
   "id": "d1bbe757-dca1-4da3-b6d1-c82a074ec9cc",
   "metadata": {},
   "outputs": [
    {
     "name": "stdout",
     "output_type": "stream",
     "text": [
      "Time taken using Python list: 1.2810957431793213 seconds\n",
      "Time taken using NumPy array: 0.035816192626953125 seconds\n"
     ]
    }
   ],
   "source": [
    "import numpy as np\n",
    "import time\n",
    "\n",
    "# Size of the array/list\n",
    "N = 10_000_000\n",
    "\n",
    "# Using Python list\n",
    "py_list = list(range(N))\n",
    "\n",
    "start = time.time()\n",
    "py_result = [x ** 2 for x in py_list]\n",
    "end = time.time()\n",
    "print(\"Time taken using Python list:\", end - start, \"seconds\")\n",
    "\n",
    "# Using NumPy array\n",
    "np_array = np.arange(N)\n",
    "\n",
    "start = time.time()\n",
    "np_result = np_array ** 2\n",
    "end = time.time()\n",
    "print(\"Time taken using NumPy array:\", end - start, \"seconds\")\n"
   ]
  },
  {
   "cell_type": "code",
   "execution_count": 10,
   "id": "d949873e-fbfe-46d4-8e02-236e4de0afeb",
   "metadata": {},
   "outputs": [
    {
     "name": "stdout",
     "output_type": "stream",
     "text": [
      "[1 2 3]\n",
      "[1 2 3]\n"
     ]
    }
   ],
   "source": [
    "lst = [1, 2, 3]\n",
    "a = np.array(lst)\n",
    "arr = np.array([1, 2, 3])\n",
    "b = np.asarray(arr)\n",
    "print(a)\n",
    "print(b)"
   ]
  },
  {
   "cell_type": "code",
   "execution_count": 11,
   "id": "29646b5a-4dd9-4bb0-bd29-f2e9c4db8329",
   "metadata": {},
   "outputs": [
    {
     "name": "stdout",
     "output_type": "stream",
     "text": [
      "<memory at 0x0000020D6F0E4580>\n"
     ]
    }
   ],
   "source": [
    "import numpy as np\n",
    "\n",
    "arr = np.array([10, 20, 30], dtype=np.int32)\n",
    "print(arr.data) "
   ]
  },
  {
   "cell_type": "code",
   "execution_count": 13,
   "id": "851640b2-ca2c-4911-b322-8ca145aa4c33",
   "metadata": {},
   "outputs": [
    {
     "name": "stdout",
     "output_type": "stream",
     "text": [
      "True\n",
      "False\n",
      "None\n"
     ]
    }
   ],
   "source": [
    "import numpy as np\n",
    "\n",
    "a = np.array([1, 2, 3, 4])\n",
    "b = a[1:3] \n",
    "print(b.base is a) \n",
    "c = a.copy()  \n",
    "print(c.base is a)   \n",
    "print(c.base) "
   ]
  },
  {
   "cell_type": "code",
   "execution_count": 16,
   "id": "76784c0a-9f30-4509-915a-b5d8a75b726c",
   "metadata": {},
   "outputs": [
    {
     "name": "stdout",
     "output_type": "stream",
     "text": [
      "[[0 0 0]\n",
      " [0 0 0]]\n",
      "[[11 22 33]\n",
      " [14 25 36]]\n"
     ]
    }
   ],
   "source": [
    "import numpy as np\n",
    "\n",
    "a = np.array([[1, 2, 3], [4, 5, 6]])\n",
    "b = np.array([10, 20, 30])\n",
    "\n",
    "# Add b to each row of a manually (inefficient)\n",
    "result = np.zeros_like(a)\n",
    "print(result)\n",
    "for i in range(a.shape[0]):\n",
    "    result[i] = a[i] + b\n",
    "result = a + b  # NumPy broadcasts b across each row\n",
    "print(result)\n"
   ]
  },
  {
   "cell_type": "code",
   "execution_count": 17,
   "id": "9939edc9-9a32-4cd6-ae69-30ee2dc95ead",
   "metadata": {},
   "outputs": [
    {
     "name": "stdout",
     "output_type": "stream",
     "text": [
      "Python loop time: 0.21150445938110352\n",
      "NumPy vectorized time: 0.0024492740631103516\n"
     ]
    }
   ],
   "source": [
    "import time\n",
    "\n",
    "data = list(range(1_000_000))\n",
    "\n",
    "start = time.time()\n",
    "result = [x ** 2 for x in data]\n",
    "end = time.time()\n",
    "\n",
    "print(\"Python loop time:\", end - start)\n",
    "import numpy as np\n",
    "\n",
    "data_np = np.arange(1_000_000)\n",
    "\n",
    "start = time.time()\n",
    "result_np = data_np ** 2  # Vectorized operation\n",
    "end = time.time()\n",
    "\n",
    "print(\"NumPy vectorized time:\", end - start)\n"
   ]
  },
  {
   "cell_type": "code",
   "execution_count": 18,
   "id": "004df054-18c8-405e-bc0b-d50e66835c06",
   "metadata": {},
   "outputs": [
    {
     "name": "stdout",
     "output_type": "stream",
     "text": [
      "[5 7 9]\n",
      "[[11 22 33]\n",
      " [14 25 36]]\n",
      "[0.0000000e+00 1.0000000e+00 1.2246468e-16]\n",
      "[1 0 3 0 5]\n"
     ]
    }
   ],
   "source": [
    "a = np.array([1, 2, 3])\n",
    "b = np.array([4, 5, 6])\n",
    "result = a + b  # No loop!\n",
    "print(result)\n",
    "a = np.array([[1, 2, 3], [4, 5, 6]])\n",
    "b = np.array([10, 20, 30])\n",
    "result = a + b  # Automatically broadcasts b across rows\n",
    "print(result)\n",
    "x = np.array([0, np.pi/2, np.pi])\n",
    "y = np.sin(x)  # Applies sin to every element\n",
    "print(y)\n",
    "a = np.array([1, 2, 3, 4, 5])\n",
    "a[a % 2 == 0] = 0  # Set even numbers to 0\n",
    "print(a)"
   ]
  },
  {
   "cell_type": "code",
   "execution_count": 19,
   "id": "3830e55a-1c3a-4ba4-80fb-13d02b234c19",
   "metadata": {},
   "outputs": [
    {
     "name": "stdout",
     "output_type": "stream",
     "text": [
      "True\n",
      "False\n",
      "True\n"
     ]
    }
   ],
   "source": [
    "a = np.array([[1, 2], [3, 4]], order='C')  # Default\n",
    "print(a.flags['C_CONTIGUOUS'])  # True\n",
    "print(a.flags['F_CONTIGUOUS'])  # False\n",
    "\n",
    "b = np.array([[1, 2], [3, 4]], order='F')  # Column-major\n",
    "print(b.flags['F_CONTIGUOUS'])  # True\n"
   ]
  },
  {
   "cell_type": "code",
   "execution_count": 20,
   "id": "ef7a5e8e-606d-4210-a77f-08d83ab533d4",
   "metadata": {},
   "outputs": [
    {
     "name": "stdout",
     "output_type": "stream",
     "text": [
      "3.28 ms ± 337 μs per loop (mean ± std. dev. of 7 runs, 100 loops each)\n"
     ]
    }
   ],
   "source": [
    "import numpy as np\n",
    "\n",
    "a = np.random.rand(1000000)\n",
    "%timeit np.sqrt(a)\n"
   ]
  },
  {
   "cell_type": "code",
   "execution_count": 21,
   "id": "d596d925-8ee2-4e1e-aa35-72be39bfba2c",
   "metadata": {},
   "outputs": [
    {
     "name": "stdout",
     "output_type": "stream",
     "text": [
      "[0.   0.25 0.5  0.75 1.  ]\n"
     ]
    }
   ],
   "source": [
    "import numpy as np\n",
    "\n",
    "# Example dataset\n",
    "data = np.array([10, 20, 30, 40, 50])\n",
    "\n",
    "# Min-Max Normalization\n",
    "normalized_data = (data - data.min()) / (data.max() - data.min())\n",
    "\n",
    "print(normalized_data)\n"
   ]
  },
  {
   "cell_type": "code",
   "execution_count": 22,
   "id": "3ec12447-4785-4925-a108-30d39b388843",
   "metadata": {},
   "outputs": [
    {
     "name": "stdout",
     "output_type": "stream",
     "text": [
      "[[1 2]\n",
      " [3 4]\n",
      " [5 6]]\n"
     ]
    }
   ],
   "source": [
    "import numpy as np\n",
    "\n",
    "# Arrays with different shapes\n",
    "a = np.array([[1, 2], [3, 4]])\n",
    "b = np.array([[5, 6]])\n",
    "\n",
    "# Concatenate along axis 0 (rows)\n",
    "merged = np.concatenate([a, b], axis=0)\n",
    "\n",
    "print(merged)\n"
   ]
  },
  {
   "cell_type": "code",
   "execution_count": 23,
   "id": "bcb06065-e57e-4863-b21b-8f9d24a5d6c4",
   "metadata": {},
   "outputs": [
    {
     "name": "stdout",
     "output_type": "stream",
     "text": [
      "[('Charlie', 25, 85.1) ('Alice', 25, 88.5) ('David', 30, 89.7)\n",
      " ('Bob', 30, 92.3) ('Eve', 35, 91.4)]\n"
     ]
    }
   ],
   "source": [
    "import numpy as np\n",
    "\n",
    "# Define a structured array\n",
    "dtype = [('name', 'U10'), ('age', 'i4'), ('score', 'f4')]\n",
    "data = np.array([('Alice', 25, 88.5),\n",
    "                 ('Bob', 30, 92.3),\n",
    "                 ('Charlie', 25, 85.1),\n",
    "                 ('David', 30, 89.7),\n",
    "                 ('Eve', 35, 91.4)],\n",
    "                dtype=dtype)\n",
    "\n",
    "# Sort by multiple fields: age, then score\n",
    "sorted_data = np.sort(data, order=['age', 'score'])\n",
    "\n",
    "print(sorted_data)\n"
   ]
  },
  {
   "cell_type": "code",
   "execution_count": 24,
   "id": "3fb7573b-2d4f-495d-a89e-b9f196a60d76",
   "metadata": {},
   "outputs": [
    {
     "name": "stdout",
     "output_type": "stream",
     "text": [
      "Original Data: [ 10  12  13  14  15 100  17  18  19  20]\n",
      "Filtered Data (without outliers): [ 10  12  13  14  15 100  17  18  19  20]\n"
     ]
    }
   ],
   "source": [
    "import numpy as np\n",
    "\n",
    "# Sample data\n",
    "data = np.array([10, 12, 13, 14, 15, 100, 17, 18, 19, 20])\n",
    "\n",
    "# Calculate mean and standard deviation\n",
    "mean = np.mean(data)\n",
    "std_dev = np.std(data)\n",
    "\n",
    "# Calculate Z-scores\n",
    "z_scores = (data - mean) / std_dev\n",
    "\n",
    "# Define the threshold for outliers (e.g., Z-score > 3)\n",
    "threshold = 3\n",
    "\n",
    "# Filter out outliers\n",
    "filtered_data = data[np.abs(z_scores) <= threshold]\n",
    "\n",
    "print(\"Original Data:\", data)\n",
    "print(\"Filtered Data (without outliers):\", filtered_data)\n"
   ]
  },
  {
   "cell_type": "code",
   "execution_count": 26,
   "id": "5f781d26-49e5-4de3-8d55-d8c3cb38c461",
   "metadata": {},
   "outputs": [
    {
     "name": "stdout",
     "output_type": "stream",
     "text": [
      "32\n",
      "[[19 22]\n",
      " [43 50]]\n",
      "[[19 22]\n",
      " [43 50]]\n",
      "[[19 22]\n",
      " [43 50]]\n"
     ]
    }
   ],
   "source": [
    "\n",
    "# Dot product of vectors (1D arrays)\n",
    "a = np.array([1, 2, 3])\n",
    "b = np.array([4, 5, 6])\n",
    "result_dot = np.dot(a, b)  # Result = 1*4 + 2*5 + 3*6\n",
    "print(result_dot)  # Output: 32\n",
    "\n",
    "# Matrix multiplication (2D arrays)\n",
    "A = np.array([[1, 2], [3, 4]])\n",
    "B = np.array([[5, 6], [7, 8]])\n",
    "result_matrix_dot = np.dot(A, B)\n",
    "print(result_matrix_dot)\n",
    "\n",
    "# Matrix multiplication (2D arrays)\n",
    "A = np.array([[1, 2], [3, 4]])\n",
    "B = np.array([[5, 6], [7, 8]])\n",
    "result_matmul = np.matmul(A, B)\n",
    "print(result_matmul)\n",
    "import numpy as np\n",
    "\n",
    "# Matrix multiplication using the @ operator\n",
    "A = np.array([[1, 2], [3, 4]])\n",
    "B = np.array([[5, 6], [7, 8]])\n",
    "result_at_operator = A @ B\n",
    "print(result_at_operator)\n"
   ]
  },
  {
   "cell_type": "code",
   "execution_count": 27,
   "id": "bf66929c-e94d-46ae-9323-c6898252254e",
   "metadata": {},
   "outputs": [
    {
     "name": "stdout",
     "output_type": "stream",
     "text": [
      "Solution (x, y): [1.3 1.8]\n"
     ]
    }
   ],
   "source": [
    "# Coefficient matrix A\n",
    "A = np.array([[2, 3],\n",
    "              [4, 1]])\n",
    "\n",
    "# Constant matrix B\n",
    "B = np.array([8, 7])\n",
    "\n",
    "# Solve the system of equations\n",
    "X = np.linalg.solve(A, B)\n",
    "\n",
    "print(\"Solution (x, y):\", X)"
   ]
  },
  {
   "cell_type": "code",
   "execution_count": 1,
   "id": "0b0d00e3-f30e-4c5b-95ba-aa24f140b205",
   "metadata": {},
   "outputs": [
    {
     "name": "stdout",
     "output_type": "stream",
     "text": [
      "Matrix A:\n",
      "[[2 3]\n",
      " [1 4]]\n",
      "\n",
      "Inverse of A using inv():\n",
      "[[ 0.8 -0.6]\n",
      " [-0.2  0.4]]\n",
      "\n",
      "Pseudoinverse of A using pinv():\n",
      "[[ 0.8 -0.6]\n",
      " [-0.2  0.4]]\n",
      "\n",
      "Matrix B (singular):\n",
      "[[2 4]\n",
      " [1 2]]\n",
      "\n",
      "Pseudoinverse of B using pinv():\n",
      "[[0.08 0.04]\n",
      " [0.16 0.08]]\n"
     ]
    }
   ],
   "source": [
    "import numpy as np\n",
    "\n",
    "# Square invertible matrix\n",
    "A = np.array([[2, 3],\n",
    "              [1, 4]])\n",
    "\n",
    "# Singular matrix (non-invertible)\n",
    "B = np.array([[2, 4],\n",
    "              [1, 2]])\n",
    "\n",
    "print(\"Matrix A:\")\n",
    "print(A)\n",
    "\n",
    "# Inverse of A\n",
    "inv_A = np.linalg.inv(A)\n",
    "print(\"\\nInverse of A using inv():\")\n",
    "print(inv_A)\n",
    "\n",
    "# Pseudoinverse of A\n",
    "pinv_A = np.linalg.pinv(A)\n",
    "print(\"\\nPseudoinverse of A using pinv():\")\n",
    "print(pinv_A)\n",
    "\n",
    "print(\"\\nMatrix B (singular):\")\n",
    "print(B)\n",
    "\n",
    "# Pseudoinverse of B (works)\n",
    "pinv_B = np.linalg.pinv(B)\n",
    "print(\"\\nPseudoinverse of B using pinv():\")\n",
    "print(pinv_B)\n",
    "\n",
    "# Inverse of B (will fail if uncommented)\n",
    "# inv_B = np.linalg.inv(B)  # This will raise a LinAlgError\n"
   ]
  },
  {
   "cell_type": "code",
   "execution_count": 2,
   "id": "58b19f6f-e469-4e71-bd63-7b9c58aa85bf",
   "metadata": {},
   "outputs": [
    {
     "name": "stdout",
     "output_type": "stream",
     "text": [
      "First 5 rolling means: [0.7538099  0.75841836 0.65672427 0.47956937 0.41020567]\n"
     ]
    }
   ],
   "source": [
    "import numpy as np\n",
    "from numpy.lib.stride_tricks import sliding_window_view\n",
    "\n",
    "# Simulated large dataset\n",
    "data = np.random.rand(1000000)\n",
    "\n",
    "# Create rolling windows of size 3\n",
    "windowed = sliding_window_view(data, window_shape=3)\n",
    "\n",
    "# Apply mean on each window\n",
    "rolling_means = windowed.mean(axis=1)\n",
    "\n",
    "print(\"First 5 rolling means:\", rolling_means[:5])\n"
   ]
  },
  {
   "cell_type": "code",
   "execution_count": 3,
   "id": "332f874b-cff7-4d0d-bb0a-e816a213b372",
   "metadata": {},
   "outputs": [
    {
     "name": "stdout",
     "output_type": "stream",
     "text": [
      "Data Point   1: 60.12 | Rolling Avg (last 10): 60.12\n",
      "Data Point   2: 56.59 | Rolling Avg (last 10): 58.35\n",
      "Data Point   3: 90.69 | Rolling Avg (last 10): 69.13\n",
      "Data Point   4: 2.78 | Rolling Avg (last 10): 52.54\n",
      "Data Point   5: 14.09 | Rolling Avg (last 10): 44.85\n",
      "Data Point   6: 96.10 | Rolling Avg (last 10): 53.39\n",
      "Data Point   7: 38.91 | Rolling Avg (last 10): 51.32\n",
      "Data Point   8: 91.42 | Rolling Avg (last 10): 56.34\n",
      "Data Point   9: 65.97 | Rolling Avg (last 10): 57.41\n",
      "Data Point  10: 20.91 | Rolling Avg (last 10): 53.76\n",
      "Data Point  11: 49.28 | Rolling Avg (last 10): 52.67\n",
      "Data Point  12: 88.73 | Rolling Avg (last 10): 55.89\n",
      "Data Point  13: 55.98 | Rolling Avg (last 10): 52.42\n",
      "Data Point  14: 21.99 | Rolling Avg (last 10): 54.34\n",
      "Data Point  15: 39.11 | Rolling Avg (last 10): 56.84\n",
      "Data Point  16: 61.19 | Rolling Avg (last 10): 53.35\n",
      "Data Point  17: 90.27 | Rolling Avg (last 10): 58.48\n",
      "Data Point  18: 52.47 | Rolling Avg (last 10): 54.59\n",
      "Data Point  19: 20.22 | Rolling Avg (last 10): 50.01\n",
      "Data Point  20: 74.55 | Rolling Avg (last 10): 55.38\n",
      "Data Point  21: 30.64 | Rolling Avg (last 10): 53.52\n",
      "Data Point  22: 39.74 | Rolling Avg (last 10): 48.62\n",
      "Data Point  23: 73.36 | Rolling Avg (last 10): 50.35\n",
      "Data Point  24: 66.29 | Rolling Avg (last 10): 54.78\n",
      "Data Point  25: 66.81 | Rolling Avg (last 10): 57.56\n",
      "Data Point  26: 36.32 | Rolling Avg (last 10): 55.07\n",
      "Data Point  27: 28.80 | Rolling Avg (last 10): 48.92\n",
      "Data Point  28: 56.58 | Rolling Avg (last 10): 49.33\n",
      "Data Point  29: 38.99 | Rolling Avg (last 10): 51.21\n",
      "Data Point  30: 66.01 | Rolling Avg (last 10): 50.35\n",
      "Data Point  31: 96.47 | Rolling Avg (last 10): 56.94\n",
      "Data Point  32: 84.03 | Rolling Avg (last 10): 61.37\n",
      "Data Point  33: 57.51 | Rolling Avg (last 10): 59.78\n",
      "Data Point  34: 54.39 | Rolling Avg (last 10): 58.59\n",
      "Data Point  35: 44.42 | Rolling Avg (last 10): 56.35\n",
      "Data Point  36: 3.79 | Rolling Avg (last 10): 53.10\n",
      "Data Point  37: 15.08 | Rolling Avg (last 10): 51.73\n",
      "Data Point  38: 44.06 | Rolling Avg (last 10): 50.47\n",
      "Data Point  39: 25.49 | Rolling Avg (last 10): 49.12\n",
      "Data Point  40: 66.71 | Rolling Avg (last 10): 49.19\n",
      "Data Point  41: 99.00 | Rolling Avg (last 10): 49.45\n",
      "Data Point  42: 85.91 | Rolling Avg (last 10): 49.64\n",
      "Data Point  43: 86.43 | Rolling Avg (last 10): 52.53\n",
      "Data Point  44: 92.08 | Rolling Avg (last 10): 56.30\n",
      "Data Point  45: 86.74 | Rolling Avg (last 10): 60.53\n",
      "Data Point  46: 24.29 | Rolling Avg (last 10): 62.58\n",
      "Data Point  47: 60.76 | Rolling Avg (last 10): 67.15\n",
      "Data Point  48: 14.80 | Rolling Avg (last 10): 64.22\n",
      "Data Point  49: 10.70 | Rolling Avg (last 10): 62.74\n",
      "Data Point  50: 67.17 | Rolling Avg (last 10): 62.79\n",
      "Data Point  51: 29.00 | Rolling Avg (last 10): 55.79\n",
      "Data Point  52: 40.08 | Rolling Avg (last 10): 51.21\n",
      "Data Point  53: 12.92 | Rolling Avg (last 10): 43.85\n",
      "Data Point  54: 11.39 | Rolling Avg (last 10): 35.78\n",
      "Data Point  55: 28.82 | Rolling Avg (last 10): 29.99\n",
      "Data Point  56: 45.22 | Rolling Avg (last 10): 32.09\n",
      "Data Point  57: 96.61 | Rolling Avg (last 10): 35.67\n",
      "Data Point  58: 74.35 | Rolling Avg (last 10): 41.63\n",
      "Data Point  59: 82.87 | Rolling Avg (last 10): 48.84\n",
      "Data Point  60: 39.13 | Rolling Avg (last 10): 46.04\n",
      "Data Point  61: 15.83 | Rolling Avg (last 10): 44.72\n",
      "Data Point  62: 9.53 | Rolling Avg (last 10): 41.67\n",
      "Data Point  63: 87.11 | Rolling Avg (last 10): 49.09\n",
      "Data Point  64: 13.63 | Rolling Avg (last 10): 49.31\n",
      "Data Point  65: 39.22 | Rolling Avg (last 10): 50.35\n",
      "Data Point  66: 15.24 | Rolling Avg (last 10): 47.35\n",
      "Data Point  67: 3.46 | Rolling Avg (last 10): 38.04\n",
      "Data Point  68: 60.07 | Rolling Avg (last 10): 36.61\n",
      "Data Point  69: 63.93 | Rolling Avg (last 10): 34.72\n",
      "Data Point  70: 1.58 | Rolling Avg (last 10): 30.96\n",
      "Data Point  71: 83.43 | Rolling Avg (last 10): 37.72\n",
      "Data Point  72: 55.20 | Rolling Avg (last 10): 42.29\n",
      "Data Point  73: 43.86 | Rolling Avg (last 10): 37.96\n",
      "Data Point  74: 86.72 | Rolling Avg (last 10): 45.27\n",
      "Data Point  75: 49.05 | Rolling Avg (last 10): 46.26\n",
      "Data Point  76: 32.23 | Rolling Avg (last 10): 47.95\n",
      "Data Point  77: 69.73 | Rolling Avg (last 10): 54.58\n",
      "Data Point  78: 31.75 | Rolling Avg (last 10): 51.75\n",
      "Data Point  79: 58.54 | Rolling Avg (last 10): 51.21\n",
      "Data Point  80: 76.88 | Rolling Avg (last 10): 58.74\n",
      "Data Point  81: 29.34 | Rolling Avg (last 10): 53.33\n",
      "Data Point  82: 36.03 | Rolling Avg (last 10): 51.41\n",
      "Data Point  83: 89.31 | Rolling Avg (last 10): 55.96\n",
      "Data Point  84: 30.87 | Rolling Avg (last 10): 50.37\n",
      "Data Point  85: 25.89 | Rolling Avg (last 10): 48.06\n",
      "Data Point  86: 20.65 | Rolling Avg (last 10): 46.90\n",
      "Data Point  87: 40.92 | Rolling Avg (last 10): 44.02\n",
      "Data Point  88: 0.31 | Rolling Avg (last 10): 40.87\n",
      "Data Point  89: 45.23 | Rolling Avg (last 10): 39.54\n",
      "Data Point  90: 5.65 | Rolling Avg (last 10): 32.42\n",
      "Data Point  91: 64.23 | Rolling Avg (last 10): 35.91\n",
      "Data Point  92: 7.98 | Rolling Avg (last 10): 33.10\n",
      "Data Point  93: 18.68 | Rolling Avg (last 10): 26.04\n",
      "Data Point  94: 96.30 | Rolling Avg (last 10): 32.58\n",
      "Data Point  95: 63.23 | Rolling Avg (last 10): 36.32\n",
      "Data Point  96: 82.73 | Rolling Avg (last 10): 42.53\n",
      "Data Point  97: 16.71 | Rolling Avg (last 10): 40.11\n",
      "Data Point  98: 43.64 | Rolling Avg (last 10): 44.44\n",
      "Data Point  99: 96.90 | Rolling Avg (last 10): 49.61\n",
      "Data Point 100: 85.74 | Rolling Avg (last 10): 57.61\n",
      "Data Point 101: 30.07 | Rolling Avg (last 10): 54.20\n",
      "Data Point 102: 49.02 | Rolling Avg (last 10): 58.30\n",
      "Data Point 103: 14.95 | Rolling Avg (last 10): 57.93\n",
      "Data Point 104: 93.49 | Rolling Avg (last 10): 57.65\n",
      "Data Point 105: 21.05 | Rolling Avg (last 10): 53.43\n",
      "Data Point 106: 2.01 | Rolling Avg (last 10): 45.36\n",
      "Data Point 107: 61.92 | Rolling Avg (last 10): 49.88\n",
      "Data Point 108: 54.47 | Rolling Avg (last 10): 50.96\n",
      "Data Point 109: 20.02 | Rolling Avg (last 10): 43.27\n",
      "Data Point 110: 59.07 | Rolling Avg (last 10): 40.61\n",
      "Data Point 111: 70.72 | Rolling Avg (last 10): 44.67\n",
      "Data Point 112: 81.60 | Rolling Avg (last 10): 47.93\n",
      "Data Point 113: 58.21 | Rolling Avg (last 10): 52.26\n",
      "Data Point 114: 60.61 | Rolling Avg (last 10): 48.97\n",
      "Data Point 115: 48.52 | Rolling Avg (last 10): 51.71\n",
      "Data Point 116: 4.17 | Rolling Avg (last 10): 51.93\n",
      "Data Point 117: 76.08 | Rolling Avg (last 10): 53.35\n",
      "Data Point 118: 29.17 | Rolling Avg (last 10): 50.82\n",
      "Data Point 119: 27.39 | Rolling Avg (last 10): 51.55\n",
      "Data Point 120: 18.92 | Rolling Avg (last 10): 47.54\n",
      "Data Point 121: 2.19 | Rolling Avg (last 10): 40.68\n",
      "Data Point 122: 3.44 | Rolling Avg (last 10): 32.87\n",
      "Data Point 123: 58.78 | Rolling Avg (last 10): 32.93\n",
      "Data Point 124: 35.78 | Rolling Avg (last 10): 30.44\n",
      "Data Point 125: 1.28 | Rolling Avg (last 10): 25.72\n",
      "Data Point 126: 50.78 | Rolling Avg (last 10): 30.38\n",
      "Data Point 127: 80.43 | Rolling Avg (last 10): 30.82\n",
      "Data Point 128: 33.92 | Rolling Avg (last 10): 31.29\n",
      "Data Point 129: 99.49 | Rolling Avg (last 10): 38.50\n",
      "Data Point 130: 51.11 | Rolling Avg (last 10): 41.72\n",
      "Data Point 131: 11.62 | Rolling Avg (last 10): 42.66\n",
      "Data Point 132: 86.92 | Rolling Avg (last 10): 51.01\n",
      "Data Point 133: 16.02 | Rolling Avg (last 10): 46.74\n",
      "Data Point 134: 7.86 | Rolling Avg (last 10): 43.94\n",
      "Data Point 135: 4.54 | Rolling Avg (last 10): 44.27\n",
      "Data Point 136: 31.36 | Rolling Avg (last 10): 42.33\n",
      "Data Point 137: 27.77 | Rolling Avg (last 10): 37.06\n",
      "Data Point 138: 6.12 | Rolling Avg (last 10): 34.28\n",
      "Data Point 139: 93.87 | Rolling Avg (last 10): 33.72\n",
      "Data Point 140: 80.73 | Rolling Avg (last 10): 36.68\n",
      "Data Point 141: 65.03 | Rolling Avg (last 10): 42.02\n",
      "Data Point 142: 82.77 | Rolling Avg (last 10): 41.61\n",
      "Data Point 143: 82.24 | Rolling Avg (last 10): 48.23\n",
      "Data Point 144: 7.25 | Rolling Avg (last 10): 48.17\n",
      "Data Point 145: 26.67 | Rolling Avg (last 10): 50.38\n",
      "Data Point 146: 42.35 | Rolling Avg (last 10): 51.48\n",
      "Data Point 147: 17.39 | Rolling Avg (last 10): 50.44\n",
      "Data Point 148: 41.15 | Rolling Avg (last 10): 53.95\n",
      "Data Point 149: 3.26 | Rolling Avg (last 10): 44.88\n",
      "Data Point 150: 66.94 | Rolling Avg (last 10): 43.51\n"
     ]
    }
   ],
   "source": [
    "import numpy as np\n",
    "import time\n",
    "\n",
    "# Initialize a fixed-size buffer for streaming data\n",
    "BUFFER_SIZE = 100\n",
    "WINDOW_SIZE = 10\n",
    "\n",
    "buffer = np.zeros(BUFFER_SIZE)\n",
    "index = 0\n",
    "\n",
    "# Simulated sensor data stream generator\n",
    "def get_sensor_data():\n",
    "    return np.random.rand() * 100  # random float between 0 and 100\n",
    "\n",
    "# Function to update buffer in a circular way\n",
    "def update_buffer(buffer, value, index):\n",
    "    buffer[index % BUFFER_SIZE] = value\n",
    "    return buffer\n",
    "\n",
    "# Function to compute rolling average (on last WINDOW_SIZE points)\n",
    "def compute_rolling_average(buffer, index, window_size):\n",
    "    if index < window_size:\n",
    "        return np.mean(buffer[:index])\n",
    "    start = (index - window_size) % BUFFER_SIZE\n",
    "    if start + window_size <= BUFFER_SIZE:\n",
    "        return np.mean(buffer[start:start + window_size])\n",
    "    else:\n",
    "        # Wrap around circular buffer\n",
    "        return np.mean(np.concatenate((buffer[start:], buffer[:(start + window_size) % BUFFER_SIZE])))\n",
    "\n",
    "# Simulate real-time processing\n",
    "for i in range(150):  # simulate 150 data points\n",
    "    new_data = get_sensor_data()\n",
    "    buffer = update_buffer(buffer, new_data, index)\n",
    "    avg = compute_rolling_average(buffer, index + 1, WINDOW_SIZE)\n",
    "    \n",
    "    print(f\"Data Point {i+1:3}: {new_data:.2f} | Rolling Avg (last {WINDOW_SIZE}): {avg:.2f}\")\n",
    "    \n",
    "    index += 1\n",
    "    time.sleep(0.1)  # simulate real-time delay\n"
   ]
  },
  {
   "cell_type": "code",
   "execution_count": 5,
   "id": "e1969d40-3afc-4ef0-ac75-6c55e52ca227",
   "metadata": {},
   "outputs": [
    {
     "name": "stdout",
     "output_type": "stream",
     "text": [
      "[1.  2.  3.  4.5 5.5 6.5] float64\n"
     ]
    }
   ],
   "source": [
    "import numpy as np\n",
    "\n",
    "a = np.array([1, 2, 3], dtype=np.int32)\n",
    "b = np.array([4.5, 5.5, 6.5])  # default is float64\n",
    "\n",
    "# Ensure consistency\n",
    "common_dtype = np.result_type(a, b)\n",
    "a = a.astype(common_dtype)\n",
    "b = b.astype(common_dtype)\n",
    "\n",
    "# Now safe to concatenate\n",
    "c = np.concatenate([a, b])\n",
    "print(c, c.dtype)\n"
   ]
  },
  {
   "cell_type": "code",
   "execution_count": null,
   "id": "1ecca39f-7392-4310-9a43-378d1a5ae625",
   "metadata": {},
   "outputs": [],
   "source": []
  }
 ],
 "metadata": {
  "kernelspec": {
   "display_name": "Python 3 (ipykernel)",
   "language": "python",
   "name": "python3"
  },
  "language_info": {
   "codemirror_mode": {
    "name": "ipython",
    "version": 3
   },
   "file_extension": ".py",
   "mimetype": "text/x-python",
   "name": "python",
   "nbconvert_exporter": "python",
   "pygments_lexer": "ipython3",
   "version": "3.12.7"
  }
 },
 "nbformat": 4,
 "nbformat_minor": 5
}
